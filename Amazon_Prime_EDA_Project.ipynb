{
  "nbformat": 4,
  "nbformat_minor": 0,
  "metadata": {
    "colab": {
      "private_outputs": true,
      "provenance": [],
      "collapsed_sections": [
        "vncDsAP0Gaoa",
        "FJNUwmbgGyua",
        "w6K7xa23Elo4",
        "yQaldy8SH6Dl",
        "PH-0ReGfmX4f",
        "mDgbUHAGgjLW",
        "O_i_v8NEhb9l",
        "HhfV-JJviCcP",
        "Y3lxredqlCYt",
        "3RnN4peoiCZX",
        "x71ZqKXriCWQ",
        "7hBIi_osiCS2",
        "JlHwYmJAmNHm",
        "35m5QtbWiB9F",
        "PoPl-ycgm1ru",
        "H0kj-8xxnORC",
        "nA9Y7ga8ng1Z",
        "PBTbrJXOngz2",
        "u3PMJOP6ngxN",
        "dauF4eBmngu3",
        "bKJF3rekwFvQ",
        "MSa1f5Uengrz",
        "GF8Ens_Soomf",
        "0wOQAZs5pc--",
        "K5QZ13OEpz2H",
        "lQ7QKXXCp7Bj",
        "448CDAPjqfQr",
        "KSlN3yHqYklG",
        "t6dVpIINYklI",
        "ijmpgYnKYklI",
        "-JiQyfWJYklI",
        "EM7whBJCYoAo",
        "fge-S5ZAYoAp",
        "85gYPyotYoAp",
        "RoGjAbkUYoAp",
        "4Of9eVA-YrdM",
        "iky9q4vBYrdO",
        "F6T5p64dYrdO",
        "y-Ehk30pYrdP",
        "bamQiAODYuh1",
        "QHF8YVU7Yuh3",
        "GwzvFGzlYuh3",
        "qYpmQ266Yuh3",
        "OH-pJp9IphqM",
        "bbFf2-_FphqN",
        "_ouA3fa0phqN",
        "Seke61FWphqN",
        "PIIx-8_IphqN",
        "t27r6nlMphqO",
        "r2jJGEOYphqO",
        "b0JNsNcRphqO",
        "BZR9WyysphqO",
        "jj7wYXLtphqO",
        "eZrbJ2SmphqO",
        "rFu4xreNphqO",
        "YJ55k-q6phqO",
        "gCFgpxoyphqP",
        "OVtJsKN_phqQ",
        "lssrdh5qphqQ",
        "U2RJ9gkRphqQ",
        "1M8mcRywphqQ",
        "tgIPom80phqQ",
        "JMzcOPDDphqR",
        "x-EpHcCOp1ci",
        "X_VqEhTip1ck",
        "8zGJKyg5p1ck",
        "PVzmfK_Ep1ck",
        "n3dbpmDWp1ck",
        "ylSl6qgtp1ck",
        "ZWILFDl5p1ck",
        "M7G43BXep1ck",
        "Ag9LCva-p1cl",
        "E6MkPsBcp1cl",
        "2cELzS2fp1cl",
        "3MPXvC8up1cl",
        "NC_X3p0fY2L0",
        "UV0SzAkaZNRQ",
        "YPEH6qLeZNRQ",
        "q29F0dvdveiT",
        "EXh0U9oCveiU",
        "22aHeOlLveiV",
        "JcMwzZxoAimU",
        "8G2x9gOozGDZ",
        "gCX9965dhzqZ",
        "gIfDvo9L0UH2"
      ],
      "include_colab_link": true
    },
    "kernelspec": {
      "name": "python3",
      "display_name": "Python 3"
    },
    "language_info": {
      "name": "python"
    }
  },
  "cells": [
    {
      "cell_type": "markdown",
      "metadata": {
        "id": "view-in-github",
        "colab_type": "text"
      },
      "source": [
        "<a href=\"https://colab.research.google.com/github/ishadvay3928/Amazon-Prime-EDA-Project/blob/main/Amazon_Prime_EDA_Project.ipynb\" target=\"_parent\"><img src=\"https://colab.research.google.com/assets/colab-badge.svg\" alt=\"Open In Colab\"/></a>"
      ]
    },
    {
      "cell_type": "markdown",
      "source": [
        "# **Project Name**    - **Amazon Prime EDA Project**\n",
        "\n"
      ],
      "metadata": {
        "id": "vncDsAP0Gaoa"
      }
    },
    {
      "cell_type": "markdown",
      "source": [
        "##### **Project Type**    -  Exploratory Data Analysis(EDA)\n",
        "##### **Contribution**    - Individual\n"
      ],
      "metadata": {
        "id": "beRrZCGUAJYm"
      }
    },
    {
      "cell_type": "markdown",
      "source": [
        "# **Project Summary -**"
      ],
      "metadata": {
        "id": "FJNUwmbgGyua"
      }
    },
    {
      "cell_type": "markdown",
      "source": [
        "Write the summary here within 500-600 words."
      ],
      "metadata": {
        "id": "F6v_1wHtG2nS"
      }
    },
    {
      "cell_type": "markdown",
      "source": [
        "# **GitHub Link -**"
      ],
      "metadata": {
        "id": "w6K7xa23Elo4"
      }
    },
    {
      "cell_type": "markdown",
      "source": [
        "https://github.com/ishadvay3928/Amazon-Prime-EDA-Project/blob/main/Amazon_Prime_EDA_Project.ipynb"
      ],
      "metadata": {
        "id": "h1o69JH3Eqqn"
      }
    },
    {
      "cell_type": "markdown",
      "source": [
        "# **Problem Statement**\n"
      ],
      "metadata": {
        "id": "yQaldy8SH6Dl"
      }
    },
    {
      "cell_type": "markdown",
      "source": [
        "**To analyze the Amazon Prime dataset and extract valuable insights regarding content trends, genre distributions, ratings and countries contributing to content to support strategic decision-making in content planning and marketing.**"
      ],
      "metadata": {
        "id": "DpeJGUA3kjGy"
      }
    },
    {
      "cell_type": "markdown",
      "source": [
        "#### **Define Your Business Objective?**"
      ],
      "metadata": {
        "id": "PH-0ReGfmX4f"
      }
    },
    {
      "cell_type": "markdown",
      "source": [
        "This analysis helps to analyze all shows available on Amazon Prime Video, allowing us to extract valuable insights such as:\n",
        "\n",
        "- **Content Diversity**: What genres and categories dominate the platform?\n",
        "\n",
        "- **Regional Availability**: How does content distribution vary across different regions?\n",
        "\n",
        "- **Trencas Over Time**: How has Amazon Prime's content library evolved?\n",
        "\n",
        "- **IMDb Ratings & Popularity**: What are the highest-rated or most popular shows on the platform?"
      ],
      "metadata": {
        "id": "PhDvGCAqmjP1"
      }
    },
    {
      "cell_type": "markdown",
      "source": [
        "# ***Let's Begin !***"
      ],
      "metadata": {
        "id": "O_i_v8NEhb9l"
      }
    },
    {
      "cell_type": "markdown",
      "source": [
        "## ***1. Know Your Data***"
      ],
      "metadata": {
        "id": "HhfV-JJviCcP"
      }
    },
    {
      "cell_type": "markdown",
      "source": [
        "### Import Libraries"
      ],
      "metadata": {
        "id": "Y3lxredqlCYt"
      }
    },
    {
      "cell_type": "code",
      "source": [
        "# Import Libraries\n",
        "import numpy as np\n",
        "import pandas as pd\n",
        "import matplotlib.pyplot as plt\n",
        "%matplotlib inline\n",
        "import seaborn as sns"
      ],
      "metadata": {
        "id": "M8Vqi-pPk-HR"
      },
      "execution_count": null,
      "outputs": []
    },
    {
      "cell_type": "markdown",
      "source": [
        "### Dataset Loading"
      ],
      "metadata": {
        "id": "3RnN4peoiCZX"
      }
    },
    {
      "cell_type": "code",
      "source": [
        "# Load Dataset\n",
        "df_credits = pd.read_csv(\"/content/credits.csv\")\n",
        "df_titles = pd.read_csv(\"/content/titles.csv\")"
      ],
      "metadata": {
        "id": "4CkvbW_SlZ_R"
      },
      "execution_count": null,
      "outputs": []
    },
    {
      "cell_type": "markdown",
      "source": [
        "### Dataset First View"
      ],
      "metadata": {
        "id": "x71ZqKXriCWQ"
      }
    },
    {
      "cell_type": "code",
      "source": [
        "# credits Dataset First Look\n",
        "df_credits.head()"
      ],
      "metadata": {
        "id": "LWNFOSvLl09H"
      },
      "execution_count": null,
      "outputs": []
    },
    {
      "cell_type": "code",
      "source": [
        "# titles Dataset First Look\n",
        "df_titles.head()"
      ],
      "metadata": {
        "id": "824VW5QvIh8K"
      },
      "execution_count": null,
      "outputs": []
    },
    {
      "cell_type": "markdown",
      "source": [
        "### Dataset Rows & Columns count"
      ],
      "metadata": {
        "id": "7hBIi_osiCS2"
      }
    },
    {
      "cell_type": "code",
      "source": [
        "# titles Dataset Rows & Columns count\n",
        "df_titles.shape"
      ],
      "metadata": {
        "id": "Kllu7SJgmLij"
      },
      "execution_count": null,
      "outputs": []
    },
    {
      "cell_type": "code",
      "source": [
        "# credits Dataset Rows & Columns count\n",
        "df_credits.shape"
      ],
      "metadata": {
        "id": "0DCC9h0EMciS"
      },
      "execution_count": null,
      "outputs": []
    },
    {
      "cell_type": "markdown",
      "source": [
        "### Dataset Information"
      ],
      "metadata": {
        "id": "JlHwYmJAmNHm"
      }
    },
    {
      "cell_type": "code",
      "source": [
        "# titles Dataset Info\n",
        "df_titles.info()"
      ],
      "metadata": {
        "id": "e9hRXRi6meOf"
      },
      "execution_count": null,
      "outputs": []
    },
    {
      "cell_type": "code",
      "source": [
        "# credits Dataset Info\n",
        "df_credits.info()"
      ],
      "metadata": {
        "id": "nWB2Xb7tM3-Y"
      },
      "execution_count": null,
      "outputs": []
    },
    {
      "cell_type": "markdown",
      "source": [
        "#### Duplicate Values"
      ],
      "metadata": {
        "id": "35m5QtbWiB9F"
      }
    },
    {
      "cell_type": "code",
      "source": [
        "# titles Dataset Duplicate Value Count\n",
        "df_titles.duplicated().sum()"
      ],
      "metadata": {
        "id": "1sLdpKYkmox0"
      },
      "execution_count": null,
      "outputs": []
    },
    {
      "cell_type": "code",
      "source": [
        "# credits Dataset Duplicate Value Count\n",
        "df_credits.duplicated().sum()"
      ],
      "metadata": {
        "id": "rP7rskyFNMBd"
      },
      "execution_count": null,
      "outputs": []
    },
    {
      "cell_type": "markdown",
      "source": [
        "#### Missing Values/Null Values"
      ],
      "metadata": {
        "id": "PoPl-ycgm1ru"
      }
    },
    {
      "cell_type": "code",
      "source": [
        "# Missing Values/Null Values Count of titles dataset\n",
        "df_titles.isnull().sum()"
      ],
      "metadata": {
        "id": "GgHWkxvamxVg"
      },
      "execution_count": null,
      "outputs": []
    },
    {
      "cell_type": "code",
      "source": [
        "# Missing Values/Null Values Count of credits dataset\n",
        "df_credits.isnull().sum()"
      ],
      "metadata": {
        "id": "8tayi2V1NkcF"
      },
      "execution_count": null,
      "outputs": []
    },
    {
      "cell_type": "code",
      "source": [
        "# Visualizing the missing values of titles dataset\n",
        "import missingno as msno\n",
        "msno.bar(df_titles)"
      ],
      "metadata": {
        "id": "3q5wnI3om9sJ"
      },
      "execution_count": null,
      "outputs": []
    },
    {
      "cell_type": "code",
      "source": [
        "# Visualizing the missing values of credits dataset\n",
        "msno.bar(df_credits)"
      ],
      "metadata": {
        "id": "KPIS4kDnOsuK"
      },
      "execution_count": null,
      "outputs": []
    },
    {
      "cell_type": "markdown",
      "source": [
        "### What did you know about your dataset?"
      ],
      "metadata": {
        "id": "H0kj-8xxnORC"
      }
    },
    {
      "cell_type": "markdown",
      "source": [
        "- There are 9871 rows and 15 columns in the titles dataset.Out of which 8 Columns have missing Values. Column Seasons have most missing values of 8514, then age_certification with 6487 missing values, then tmdb_score with 2082 missing values, and so on. Out of all Description Have least missing values of 119.\n",
        "-There are 124235 rows and 5 columns in the credits dataset.Out of which only 1 Column have missing Values that is character Column having 16287 missing values."
      ],
      "metadata": {
        "id": "gfoNAAC-nUe_"
      }
    },
    {
      "cell_type": "markdown",
      "source": [
        "## ***2. Understanding Your Variables***"
      ],
      "metadata": {
        "id": "nA9Y7ga8ng1Z"
      }
    },
    {
      "cell_type": "code",
      "source": [
        "# titles Dataset Columns\n",
        "df_titles.columns"
      ],
      "metadata": {
        "id": "j7xfkqrt5Ag5"
      },
      "execution_count": null,
      "outputs": []
    },
    {
      "cell_type": "code",
      "source": [
        "# credits Dataset Columns\n",
        "df_credits.columns"
      ],
      "metadata": {
        "id": "Ay23mcRRTelT"
      },
      "execution_count": null,
      "outputs": []
    },
    {
      "cell_type": "code",
      "source": [
        "# titles Dataset Describe\n",
        "df_titles.describe(include='all')"
      ],
      "metadata": {
        "id": "DnOaZdaE5Q5t"
      },
      "execution_count": null,
      "outputs": []
    },
    {
      "cell_type": "code",
      "source": [
        "# credits Dataset Describe\n",
        "df_credits.describe(include='all')"
      ],
      "metadata": {
        "id": "P8ys3L1qT80u"
      },
      "execution_count": null,
      "outputs": []
    },
    {
      "cell_type": "markdown",
      "source": [
        "### Variables Description"
      ],
      "metadata": {
        "id": "PBTbrJXOngz2"
      }
    },
    {
      "cell_type": "markdown",
      "source": [
        "**Variable Description For Titles dataset**:\n",
        "\n",
        "- id: The title ID on JustWatch.\n",
        "\n",
        "- title: The nome of the title\n",
        "\n",
        "- show type: TV show or movie.\n",
        "\n",
        "- description: A brief description,\n",
        "\n",
        "- release year: The release year.\n",
        "\n",
        "- age_certification: The age certification,\n",
        "\n",
        "- runtime: The length of the episode (SHOW) or movie\n",
        "\n",
        "- genres: A list of genres.\n",
        "\n",
        "- production countries: A list of countries that produced the title.\n",
        "\n",
        "- seasons: Number of seasons if it's a SHOW.\n",
        "\n",
        "- imdb id: The title ID on IMDB.\n",
        "\n",
        "- imdb score. Score on IMDB.\n",
        "\n",
        "- imdb_votes: Votes on IMDB.\n",
        "\n",
        "- tmab popularity: Popularity on TMDB.\n",
        "\n",
        "- tmdb score: Score on TMDB.\n",
        "\n",
        "**Variable Description For Credits dataset**:\n",
        "\n",
        "- person ID: The person ID on JustWatch\n",
        "\n",
        "- id: The title ID on JustWatch.\n",
        "\n",
        "- name: The actor or director's name.\n",
        "\n",
        "- character name: The character name.\n",
        "\n",
        "- role: ACTOR or DIRECTOR"
      ],
      "metadata": {
        "id": "aJV4KIxSnxay"
      }
    },
    {
      "cell_type": "markdown",
      "source": [
        "### Check Unique Values for each variable."
      ],
      "metadata": {
        "id": "u3PMJOP6ngxN"
      }
    },
    {
      "cell_type": "code",
      "source": [
        "# Check Unique Values for each variable of titles dataset.\n",
        "df_titles.nunique()"
      ],
      "metadata": {
        "id": "zms12Yq5n-jE"
      },
      "execution_count": null,
      "outputs": []
    },
    {
      "cell_type": "code",
      "source": [
        "# Check Unique Values for each variable of credits dataset.\n",
        "df_credits.nunique()"
      ],
      "metadata": {
        "id": "csOBghiTWlb-"
      },
      "execution_count": null,
      "outputs": []
    },
    {
      "cell_type": "markdown",
      "source": [
        "## 3. ***Data Wrangling***"
      ],
      "metadata": {
        "id": "dauF4eBmngu3"
      }
    },
    {
      "cell_type": "markdown",
      "source": [
        "### Data Wrangling Code"
      ],
      "metadata": {
        "id": "bKJF3rekwFvQ"
      }
    },
    {
      "cell_type": "code",
      "source": [
        "# Drop Duplicates\n",
        "df_titles.drop_duplicates(inplace=True)\n",
        "df_credits.drop_duplicates(inplace=True)"
      ],
      "metadata": {
        "id": "fDE1T8U1kv1Q"
      },
      "execution_count": null,
      "outputs": []
    },
    {
      "cell_type": "code",
      "source": [
        "# Merge both datasets on 'id'\n",
        "df = pd.merge(df_titles, df_credits, on='id', how='left')"
      ],
      "metadata": {
        "id": "wk-9a2fpoLcV"
      },
      "execution_count": null,
      "outputs": []
    },
    {
      "cell_type": "code",
      "source": [
        "# Convert numerical strings to numeric types\n",
        "df['imdb_score'] = pd.to_numeric(df['imdb_score'], errors='coerce')\n",
        "df['imdb_votes'] = pd.to_numeric(df['imdb_votes'], errors='coerce')\n",
        "df['tmdb_score'] = pd.to_numeric(df['tmdb_score'], errors='coerce')\n",
        "df['tmdb_popularity'] = pd.to_numeric(df['tmdb_popularity'], errors='coerce')\n"
      ],
      "metadata": {
        "id": "ktY9mEgKhGzn"
      },
      "execution_count": null,
      "outputs": []
    },
    {
      "cell_type": "code",
      "source": [
        "df['type'] = df['type'].astype('category')\n",
        "df['age_certification'] = df['age_certification'].astype('category')\n"
      ],
      "metadata": {
        "id": "JpD-I39Wfn6a"
      },
      "execution_count": null,
      "outputs": []
    },
    {
      "cell_type": "code",
      "source": [
        "df.info()"
      ],
      "metadata": {
        "id": "s29N6K14n4Si"
      },
      "execution_count": null,
      "outputs": []
    },
    {
      "cell_type": "markdown",
      "source": [
        "### What all manipulations have you done and insights you found?"
      ],
      "metadata": {
        "id": "MSa1f5Uengrz"
      }
    },
    {
      "cell_type": "markdown",
      "source": [
        "***Key Manipulations:***\n",
        "\n",
        "- Dropped duplicate records from both ***df_titles*** and ***df_credits*** to ensure data quality.\n",
        "\n",
        "- Merged ***df_titles*** and ***df_credits*** on the common column 'id' using a left join, consolidating content information with credits.\n",
        "\n",
        "- Converted numeric columns stored as strings ***(imdb_score, imdb_votes, tmdb_score, tmdb_popularity)*** to proper numeric types for accurate computation and analysis.\n",
        "\n",
        "- Converted categorical columns like ***type (Movie or Show)*** and ***age_certification*** to category data type for memory optimization and efficient analysis.\n",
        "\n",
        "***Insights Gained:***\n",
        "\n",
        "- **Data deduplication** ensures there are no repeated entries that might skew analysis or visualizations.\n",
        "\n",
        "- **Merging titles** and credits enables a unified dataset that allows combined analysis on content metadata (genre, country) and personnel (director, cast).\n",
        "\n",
        "- Converting scores and popularity metrics into **numeric form** prepares the data for:\n",
        "\n",
        "    - Trend analysis (e.g., comparing IMDb vs TMDb ratings)\n",
        "    - Correlation and regression modeling\n",
        "    - Popularity distribution insights\n",
        "\n",
        "- **Categorical encoding** of ***type*** and ***age_certification*** facilitates:\n",
        "\n",
        "    - Efficient filtering for Movies vs Shows\n",
        "    - Grouped comparisons across different content ratings"
      ],
      "metadata": {
        "id": "LbyXE7I1olp8"
      }
    },
    {
      "cell_type": "markdown",
      "source": [
        "## ***4. Data Vizualization, Storytelling & Experimenting with charts : Understand the relationships between variables***"
      ],
      "metadata": {
        "id": "GF8Ens_Soomf"
      }
    },
    {
      "cell_type": "markdown",
      "source": [
        "#### Chart - 1 (Distribution of Content Type)"
      ],
      "metadata": {
        "id": "0wOQAZs5pc--"
      }
    },
    {
      "cell_type": "code",
      "source": [
        "# Distribution of Content type\n",
        "type_counts = df['type'].value_counts()\n",
        "\n",
        "plt.figure(figsize=(10,6))\n",
        "plt.pie(type_counts, labels=type_counts.index, autopct='%1.1f%%', startangle=70, colors=['#ff9999','#66b3ff'])\n",
        "plt.title('Distribution of Movies vs TV Shows on Amazon Prime')\n",
        "plt.axis('equal')\n",
        "plt.show()"
      ],
      "metadata": {
        "id": "7v_ESjsspbW7"
      },
      "execution_count": null,
      "outputs": []
    },
    {
      "cell_type": "markdown",
      "source": [
        "##### 1. Why did you pick the specific chart?"
      ],
      "metadata": {
        "id": "K5QZ13OEpz2H"
      }
    },
    {
      "cell_type": "markdown",
      "source": [
        "A pie chart is effective for visualizing the proportion between two Types—here, Movie and Show. It quickly communicates which format dominates."
      ],
      "metadata": {
        "id": "XESiWehPqBRc"
      }
    },
    {
      "cell_type": "markdown",
      "source": [
        "##### 2. What is/are the insight(s) found from the chart?"
      ],
      "metadata": {
        "id": "lQ7QKXXCp7Bj"
      }
    },
    {
      "cell_type": "markdown",
      "source": [
        "The proportion of movies on Amazon Prime significantly exceeds the number of Shows, showing a heavier investment in movie content."
      ],
      "metadata": {
        "id": "C_j1G7yiqdRP"
      }
    },
    {
      "cell_type": "markdown",
      "source": [
        "##### 3. Will the gained insights help creating a positive business impact?\n",
        "Are there any insights that lead to negative growth? Justify with specific reason."
      ],
      "metadata": {
        "id": "448CDAPjqfQr"
      }
    },
    {
      "cell_type": "markdown",
      "source": [
        "Yes. This helps Amazon Prime evaluate whether diversifying into more shows can improve user retention, especially since series often boost engagement. However, over-investment in movies without enough long-form content may limit binge-watching behavior, potentially reducing user time-on-platform."
      ],
      "metadata": {
        "id": "3cspy4FjqxJW"
      }
    },
    {
      "cell_type": "markdown",
      "source": [
        "#### Chart - 2 (Top 10 countries)"
      ],
      "metadata": {
        "id": "KSlN3yHqYklG"
      }
    },
    {
      "cell_type": "code",
      "source": [
        "# Top 10 countries by content production\n",
        "import ast\n",
        "\n",
        "df['production_countries'] = df['production_countries'].fillna('[]').apply(ast.literal_eval)\n",
        "exploded_countries = df.explode('production_countries')\n",
        "top_countries = exploded_countries['production_countries'].value_counts().head(10)\n",
        "\n",
        "# Plot\n",
        "plt.figure(figsize=(10,5))\n",
        "sns.barplot(x=top_countries.values, y=top_countries.index, palette='viridis')\n",
        "plt.title('Top 10 Countries by Content Production on Amazon Prime')\n",
        "plt.xlabel('Count')\n",
        "plt.ylabel('Country')\n",
        "plt.tight_layout()\n",
        "plt.show()\n",
        "\n"
      ],
      "metadata": {
        "id": "R4YgtaqtYklH"
      },
      "execution_count": null,
      "outputs": []
    },
    {
      "cell_type": "markdown",
      "source": [
        "##### 1. Why did you pick the specific chart?"
      ],
      "metadata": {
        "id": "t6dVpIINYklI"
      }
    },
    {
      "cell_type": "markdown",
      "source": [
        "A horizontal bar chart clearly visualizes which countries contribute the most content."
      ],
      "metadata": {
        "id": "5aaW0BYyYklI"
      }
    },
    {
      "cell_type": "markdown",
      "source": [
        "##### 2. What is/are the insight(s) found from the chart?"
      ],
      "metadata": {
        "id": "ijmpgYnKYklI"
      }
    },
    {
      "cell_type": "markdown",
      "source": [
        "The United States dominates content production on Amazon Prime, followed by United Kingdom of Great Britain and Northern Ireland, and others. The U.S. alone accounts for a massive portion of the total content."
      ],
      "metadata": {
        "id": "PSx9atu2YklI"
      }
    },
    {
      "cell_type": "markdown",
      "source": [
        "##### 3. Will the gained insights help creating a positive business impact?\n",
        "Are there any insights that lead to negative growth? Justify with specific reason."
      ],
      "metadata": {
        "id": "-JiQyfWJYklI"
      }
    },
    {
      "cell_type": "markdown",
      "source": [
        "Yes, this insight can help Amazon Prime localize strategies. It indicates strong content sourcing from the U.S. and markets like United Kingdom of Great Britain and Northern Ireland. However, lack of content diversity from other regions may limit market penetration in underrepresented geographies, potentially restricting user acquisition."
      ],
      "metadata": {
        "id": "BcBbebzrYklV"
      }
    },
    {
      "cell_type": "markdown",
      "source": [
        "#### Chart - 3 (top 10 directors)"
      ],
      "metadata": {
        "id": "EM7whBJCYoAo"
      }
    },
    {
      "cell_type": "code",
      "source": [
        "# top 10 directors\n",
        "\n",
        "directors = df[df['role'] == 'DIRECTOR']\n",
        "director_counts = directors['name'].dropna().str.split(', ').explode().value_counts().head(10)\n",
        "\n",
        "# Plot\n",
        "plt.figure(figsize=(10, 5))\n",
        "sns.barplot(x=director_counts.values, y=director_counts.index, palette=\"coolwarm\")\n",
        "plt.title(\"Top 10 Directors on Amazon Prime\")\n",
        "plt.ylabel(\"Titles Directed\")\n",
        "plt.xlabel(\"Directors\")\n",
        "plt.tight_layout()\n",
        "plt.show()\n",
        "\n"
      ],
      "metadata": {
        "id": "t6GMdE67YoAp"
      },
      "execution_count": null,
      "outputs": []
    },
    {
      "cell_type": "markdown",
      "source": [
        "##### 1. Why did you pick the specific chart?"
      ],
      "metadata": {
        "id": "fge-S5ZAYoAp"
      }
    },
    {
      "cell_type": "markdown",
      "source": [
        "horizontal Bar Chart identifies the most active and possibly trusted directors associated with Amazon Prime."
      ],
      "metadata": {
        "id": "5dBItgRVYoAp"
      }
    },
    {
      "cell_type": "markdown",
      "source": [
        "##### 2. What is/are the insight(s) found from the chart?"
      ],
      "metadata": {
        "id": "85gYPyotYoAp"
      }
    },
    {
      "cell_type": "markdown",
      "source": [
        "Top directors who repeatedly appear, indicates trust and investment by Amazon Prime in specific creations."
      ],
      "metadata": {
        "id": "4jstXR6OYoAp"
      }
    },
    {
      "cell_type": "markdown",
      "source": [
        "##### 3. Will the gained insights help creating a positive business impact?\n",
        "Are there any insights that lead to negative growth? Justify with specific reason."
      ],
      "metadata": {
        "id": "RoGjAbkUYoAp"
      }
    },
    {
      "cell_type": "markdown",
      "source": [
        "Yes, this shows Reliable directors helps to scale production quickly. Due to this, there is a risk of similar content themes or limited variety in storytelling which can adversely affect the growth."
      ],
      "metadata": {
        "id": "zfJ8IqMcYoAp"
      }
    },
    {
      "cell_type": "markdown",
      "source": [
        "#### Chart - 4 (Top 10 Actors)"
      ],
      "metadata": {
        "id": "4Of9eVA-YrdM"
      }
    },
    {
      "cell_type": "code",
      "source": [
        "# Top 10 Most Frequent Actors\n",
        "actors = df[df['role'] == 'ACTOR']\n",
        "actor_counts = actors['name'].dropna().str.split(', ').explode().value_counts().head(10)\n",
        "\n",
        "# Plot\n",
        "plt.figure(figsize=(10, 5))\n",
        "sns.barplot(x=actor_counts.values, y=actor_counts.index, palette=\"viridis\")\n",
        "plt.title(\"Top 10 Actors on Amazon Prime\")\n",
        "plt.ylabel(\"Appearances\")\n",
        "plt.xlabel(\"Actors\")\n",
        "plt.tight_layout()\n",
        "plt.show()"
      ],
      "metadata": {
        "id": "irlUoxc8YrdO"
      },
      "execution_count": null,
      "outputs": []
    },
    {
      "cell_type": "markdown",
      "source": [
        "##### 1. Why did you pick the specific chart?"
      ],
      "metadata": {
        "id": "iky9q4vBYrdO"
      }
    },
    {
      "cell_type": "markdown",
      "source": [
        "Bar plots help identify actors frequently featured in content over Amazon Prime which is good for partnership and marketing."
      ],
      "metadata": {
        "id": "aJRCwT6DYrdO"
      }
    },
    {
      "cell_type": "markdown",
      "source": [
        "##### 2. What is/are the insight(s) found from the chart?"
      ],
      "metadata": {
        "id": "F6T5p64dYrdO"
      }
    },
    {
      "cell_type": "markdown",
      "source": [
        "Certain actors appear far more often than others, indicating star preferences or contracts."
      ],
      "metadata": {
        "id": "Xx8WAJvtYrdO"
      }
    },
    {
      "cell_type": "markdown",
      "source": [
        "##### 3. Will the gained insights help creating a positive business impact?\n",
        "Are there any insights that lead to negative growth? Justify with specific reason."
      ],
      "metadata": {
        "id": "y-Ehk30pYrdP"
      }
    },
    {
      "cell_type": "markdown",
      "source": [
        "The insights indicates that Star power can bring viewership and Help in casting popular faces.However Overuse may lead to decline in views as viewers may crave for new talent/faces."
      ],
      "metadata": {
        "id": "jLNxxz7MYrdP"
      }
    },
    {
      "cell_type": "markdown",
      "source": [
        "#### Chart - 5 (Popular Topics on Amazon Prime)"
      ],
      "metadata": {
        "id": "bamQiAODYuh1"
      }
    },
    {
      "cell_type": "code",
      "source": [
        "# Popular Topics on Amazon Prime\n",
        "from wordcloud import WordCloud\n",
        "text = ' '.join(df['description'].dropna().tolist())\n",
        "\n",
        "plt.figure(figsize=(12,5))\n",
        "wordcloud = WordCloud(width=800, height=400, background_color='white').generate(text)\n",
        "plt.imshow(wordcloud, interpolation='bilinear')\n",
        "plt.axis('off')\n",
        "plt.title('Popular Topics on Amazon Prime')\n",
        "plt.show()"
      ],
      "metadata": {
        "id": "TIJwrbroYuh3"
      },
      "execution_count": null,
      "outputs": []
    },
    {
      "cell_type": "markdown",
      "source": [
        "##### 1. Why did you pick the specific chart?"
      ],
      "metadata": {
        "id": "QHF8YVU7Yuh3"
      }
    },
    {
      "cell_type": "markdown",
      "source": [
        "WordCloud gives a quick, creative overview of common themes, genres, or topics Amazon Prime content revolve around."
      ],
      "metadata": {
        "id": "dcxuIMRPYuh3"
      }
    },
    {
      "cell_type": "markdown",
      "source": [
        "##### 2. What is/are the insight(s) found from the chart?"
      ],
      "metadata": {
        "id": "GwzvFGzlYuh3"
      }
    },
    {
      "cell_type": "markdown",
      "source": [
        "Top topics are life, love,find etc. This Indicates user interest and Amazon Prime’s content production strategy."
      ],
      "metadata": {
        "id": "uyqkiB8YYuh3"
      }
    },
    {
      "cell_type": "markdown",
      "source": [
        "##### 3. Will the gained insights help creating a positive business impact?\n",
        "Are there any insights that lead to negative growth? Justify with specific reason."
      ],
      "metadata": {
        "id": "qYpmQ266Yuh3"
      }
    },
    {
      "cell_type": "markdown",
      "source": [
        "Insights shows Amazon Prime investment in topics like life,love and find. Lesser visibility of niche genres like Crime, Murder, Mysterious etc. can impact negatively in markerting."
      ],
      "metadata": {
        "id": "_WtzZ_hCYuh4"
      }
    },
    {
      "cell_type": "markdown",
      "source": [
        "#### Chart - 6 (top 10 genres)"
      ],
      "metadata": {
        "id": "OH-pJp9IphqM"
      }
    },
    {
      "cell_type": "code",
      "source": [
        "# top 10 genres on Amazon Prime\n",
        "\n",
        "import ast\n",
        "from collections import Counter\n",
        "\n",
        "# Convert stringified list to actual list\n",
        "df['genres'] = df['genres'].fillna('[]').apply(ast.literal_eval)\n",
        "\n",
        "# Flatten the genre list\n",
        "flat_genres = [genre.strip() for sublist in df['genres'] for genre in sublist]\n",
        "\n",
        "# Count top 10 genres\n",
        "top_genres = Counter(flat_genres).most_common(10)\n",
        "genres, counts = zip(*top_genres)\n",
        "\n",
        "# Plotting\n",
        "plt.figure(figsize=(10,5))\n",
        "sns.barplot(x=list(counts), y=list(genres), palette='magma')\n",
        "plt.title('Top 10 Genres on Amazon Prime')\n",
        "plt.xlabel('Count')\n",
        "plt.ylabel('Genre')\n",
        "plt.tight_layout()\n",
        "plt.show()\n",
        "\n"
      ],
      "metadata": {
        "id": "kuRf4wtuphqN"
      },
      "execution_count": null,
      "outputs": []
    },
    {
      "cell_type": "markdown",
      "source": [
        "##### 1. Why did you pick the specific chart?"
      ],
      "metadata": {
        "id": "bbFf2-_FphqN"
      }
    },
    {
      "cell_type": "markdown",
      "source": [
        "A horizontal bar chart is perfect for showcasing frequency distribution of categorical data like genres."
      ],
      "metadata": {
        "id": "loh7H2nzphqN"
      }
    },
    {
      "cell_type": "markdown",
      "source": [
        "##### 2. What is/are the insight(s) found from the chart?"
      ],
      "metadata": {
        "id": "_ouA3fa0phqN"
      }
    },
    {
      "cell_type": "markdown",
      "source": [
        "The most common genres on Netflix include Drama,Comedy and Thriller. These dominate the graph, suggesting user demand is high in these categories."
      ],
      "metadata": {
        "id": "VECbqPI7phqN"
      }
    },
    {
      "cell_type": "markdown",
      "source": [
        "##### 3. Will the gained insights help creating a positive business impact?\n",
        "Are there any insights that lead to negative growth? Justify with specific reason."
      ],
      "metadata": {
        "id": "Seke61FWphqN"
      }
    },
    {
      "cell_type": "markdown",
      "source": [
        "Yes. Understanding genre preferences can help Amazon Prime personalize recommendations and focus future content investments. However, over-representation in certain genres (e.g., dramas) could lead to audience fatigue and underrepresentation of niche interests, which might limit audience diversity."
      ],
      "metadata": {
        "id": "DW4_bGpfphqN"
      }
    },
    {
      "cell_type": "markdown",
      "source": [
        "#### Chart - 7 (Age Certification Distribution)"
      ],
      "metadata": {
        "id": "hBwiCKPBYjnT"
      }
    },
    {
      "cell_type": "code",
      "source": [
        "# Age Certification Distribution\n",
        "plt.figure(figsize=(8,5))\n",
        "sns.countplot(data=df_titles, x='age_certification', order=df_titles['age_certification'].value_counts().index, palette='Set1')\n",
        "plt.title(\"Distribution of Age Certifications\")\n",
        "plt.xlabel(\"Age Certification\")\n",
        "plt.ylabel(\"Count\")\n",
        "plt.tight_layout()\n",
        "plt.show()\n"
      ],
      "metadata": {
        "id": "A21aSOceYjnT"
      },
      "execution_count": null,
      "outputs": []
    },
    {
      "cell_type": "markdown",
      "source": [
        "##### 1. Why did you pick the specific chart?"
      ],
      "metadata": {
        "id": "Q6kD7fz8YjnT"
      }
    },
    {
      "cell_type": "markdown",
      "source": [
        "This bar chart effectively shows the count of Age Certification Category."
      ],
      "metadata": {
        "id": "PkXuBY4OYjnT"
      }
    },
    {
      "cell_type": "markdown",
      "source": [
        "##### 2. What is/are the insight(s) found from the chart?"
      ],
      "metadata": {
        "id": "LLh-D4s5YjnT"
      }
    },
    {
      "cell_type": "markdown",
      "source": [
        "Insights reveal \"R\" i.e  Restricted - is the most common certification, followed by \"PG-13\" and \"PG,\" with other certifications being significantly less frequent."
      ],
      "metadata": {
        "id": "ZEZ1eJbpYjnU"
      }
    },
    {
      "cell_type": "markdown",
      "source": [
        "##### 3. Will the gained insights help creating a positive business impact?\n",
        "Are there any insights that lead to negative growth? Justify with specific reason."
      ],
      "metadata": {
        "id": "nV3XiurjYjnU"
      }
    },
    {
      "cell_type": "markdown",
      "source": [
        "Yes, This knowledge can positively impact content production and marketing by targeting specific audiences; however, over-relying on \"R\" ratings could limit broader audience appeal, leading to negative growth."
      ],
      "metadata": {
        "id": "yXJpisg6YjnU"
      }
    },
    {
      "cell_type": "markdown",
      "source": [
        "#### Chart - 8 (IMDb Rating Distribution)"
      ],
      "metadata": {
        "id": "PIIx-8_IphqN"
      }
    },
    {
      "cell_type": "code",
      "source": [
        "# IMDb Rating Distribution\n",
        "\n",
        "plt.figure(figsize=(8,5))\n",
        "sns.histplot(df['imdb_score'].dropna(), bins=20, kde=True, color='skyblue')\n",
        "plt.title('Distribution of IMDb Scores')\n",
        "plt.xlabel('IMDb Score')\n",
        "plt.ylabel('Count')\n",
        "plt.tight_layout()\n",
        "plt.show()\n"
      ],
      "metadata": {
        "id": "lqAIGUfyphqO"
      },
      "execution_count": null,
      "outputs": []
    },
    {
      "cell_type": "markdown",
      "source": [
        "##### 1. Why did you pick the specific chart?"
      ],
      "metadata": {
        "id": "t27r6nlMphqO"
      }
    },
    {
      "cell_type": "markdown",
      "source": [
        "A histogram was chosen because it effectively displays the distribution of a single numerical variable (IMDb Scores), showing the frequency of scores within different ranges."
      ],
      "metadata": {
        "id": "iv6ro40sphqO"
      }
    },
    {
      "cell_type": "markdown",
      "source": [
        "##### 2. What is/are the insight(s) found from the chart?"
      ],
      "metadata": {
        "id": "r2jJGEOYphqO"
      }
    },
    {
      "cell_type": "markdown",
      "source": [
        "The chart shows that IMDb scores are mostly concentrated between 5.0 and 7.5, with the highest frequency around 6.0-6.5."
      ],
      "metadata": {
        "id": "Po6ZPi4hphqO"
      }
    },
    {
      "cell_type": "markdown",
      "source": [
        "##### 3. Will the gained insights help creating a positive business impact?\n",
        "Are there any insights that lead to negative growth? Justify with specific reason."
      ],
      "metadata": {
        "id": "b0JNsNcRphqO"
      }
    },
    {
      "cell_type": "markdown",
      "source": [
        "Yes, insights like the common score range (5.5-7.5) can guide content strategy for positive impact. However, over-focusing on average scores and ignoring high-quality niches could lead to negative growth due to lack of differentiation and missed opportunities."
      ],
      "metadata": {
        "id": "xvSq8iUTphqO"
      }
    },
    {
      "cell_type": "markdown",
      "source": [
        "#### Chart - 9 (Release Year Distribution)"
      ],
      "metadata": {
        "id": "BZR9WyysphqO"
      }
    },
    {
      "cell_type": "code",
      "source": [
        "# Release Year Distribution\n",
        "release_counts = df['release_year'].value_counts().sort_index()\n",
        "\n",
        "plt.figure(figsize=(25,6))\n",
        "sns.lineplot(x=release_counts.index, y=release_counts.values, marker='o', color='teal')\n",
        "plt.title('Amazon Prime Content Released Over the Years')\n",
        "plt.xlabel('Release Year')\n",
        "plt.ylabel('Count')\n",
        "plt.grid(True)\n",
        "plt.show()"
      ],
      "metadata": {
        "id": "TdPTWpAVphqO"
      },
      "execution_count": null,
      "outputs": []
    },
    {
      "cell_type": "markdown",
      "source": [
        "##### 1. Why did you pick the specific chart?"
      ],
      "metadata": {
        "id": "jj7wYXLtphqO"
      }
    },
    {
      "cell_type": "markdown",
      "source": [
        "This line chart is ideal for showing \"Amazon Prime Content Released Over the Years\" because it effectively visualizes trends over time."
      ],
      "metadata": {
        "id": "Ob8u6rCTphqO"
      }
    },
    {
      "cell_type": "markdown",
      "source": [
        "##### 2. What is/are the insight(s) found from the chart?"
      ],
      "metadata": {
        "id": "eZrbJ2SmphqO"
      }
    },
    {
      "cell_type": "markdown",
      "source": [
        "The key insight is a significant surge in Amazon Prime content released, peaking around 2019-2020, followed by a sharp decline."
      ],
      "metadata": {
        "id": "mZtgC_hjphqO"
      }
    },
    {
      "cell_type": "markdown",
      "source": [
        "##### 3. Will the gained insights help creating a positive business impact?\n",
        "Are there any insights that lead to negative growth? Justify with specific reason."
      ],
      "metadata": {
        "id": "rFu4xreNphqO"
      }
    },
    {
      "cell_type": "markdown",
      "source": [
        "This insight can positively impact content acquisition strategies by showing the need for more recent content, but the decline could indicate a reduction in new releases, potentially leading to negative subscriber growth if not addressed."
      ],
      "metadata": {
        "id": "ey_0qi68phqO"
      }
    },
    {
      "cell_type": "markdown",
      "source": [
        "#### Chart - 10 (Content Type over Runtime and IMDb Score)"
      ],
      "metadata": {
        "id": "YJ55k-q6phqO"
      }
    },
    {
      "cell_type": "code",
      "source": [
        "# Content Type over Runtime and IMDb Score\n",
        "plt.figure(figsize=(8,5))\n",
        "sns.scatterplot(data=df, x='runtime', y='imdb_score', hue='type', alpha=0.7)\n",
        "plt.title('Content Type over Runtime and IMDb Score')\n",
        "plt.xlabel('Runtime (minutes)')\n",
        "plt.ylabel('IMDb Score')\n",
        "plt.tight_layout()\n",
        "plt.show()\n"
      ],
      "metadata": {
        "id": "B2aS4O1ophqO"
      },
      "execution_count": null,
      "outputs": []
    },
    {
      "cell_type": "markdown",
      "source": [
        "##### 1. Why did you pick the specific chart?"
      ],
      "metadata": {
        "id": "gCFgpxoyphqP"
      }
    },
    {
      "cell_type": "markdown",
      "source": [
        "This scatter plot effectively shows the relationship between \"Runtime,\" \"IMDb Score,\" and \"Content Type\" (Movie/Show)."
      ],
      "metadata": {
        "id": "TVxDimi2phqP"
      }
    },
    {
      "cell_type": "markdown",
      "source": [
        "##### 2. What is/are the insight(s) found from the chart?"
      ],
      "metadata": {
        "id": "OVtJsKN_phqQ"
      }
    },
    {
      "cell_type": "markdown",
      "source": [
        "The main insights are that movies generally have longer runtimes and a wider range of IMDb scores, while shows are typically shorter with scores mostly between 5 and 9."
      ],
      "metadata": {
        "id": "ngGi97qjphqQ"
      }
    },
    {
      "cell_type": "markdown",
      "source": [
        "##### 3. Will the gained insights help creating a positive business impact?\n",
        "Are there any insights that lead to negative growth? Justify with specific reason."
      ],
      "metadata": {
        "id": "lssrdh5qphqQ"
      }
    },
    {
      "cell_type": "markdown",
      "source": [
        "Yes, These Insights can positively inform content acquisition and production strategies by identifying content gaps, but ignoring one type's potential could lead to negative growth by limiting audience reach."
      ],
      "metadata": {
        "id": "tBpY5ekJphqQ"
      }
    },
    {
      "cell_type": "markdown",
      "source": [
        "#### Chart - 11 (Content Type over Time)"
      ],
      "metadata": {
        "id": "U2RJ9gkRphqQ"
      }
    },
    {
      "cell_type": "code",
      "source": [
        "# Content Type over Time\n",
        "release_counts = df.groupby(['release_year', 'type']).size().unstack().fillna(0)\n",
        "\n",
        "release_counts.plot(kind='line', figsize=(20, 6), linewidth=2)\n",
        "plt.title('Content Type over Time')\n",
        "plt.xlabel('Year')\n",
        "plt.ylabel('Count')\n",
        "plt.legend(title='Type')\n",
        "plt.tight_layout()\n",
        "plt.show()"
      ],
      "metadata": {
        "id": "X0fZZIaZJdI5"
      },
      "execution_count": null,
      "outputs": []
    },
    {
      "cell_type": "markdown",
      "source": [
        "##### 1. Why did you pick the specific chart?"
      ],
      "metadata": {
        "id": "1M8mcRywphqQ"
      }
    },
    {
      "cell_type": "markdown",
      "source": [
        "This line chart is ideal for visualizing \"Content Type over Time\" because it effectively displays the trends and counts of both the types over time"
      ],
      "metadata": {
        "id": "8agQvks0phqQ"
      }
    },
    {
      "cell_type": "markdown",
      "source": [
        "##### 2. What is/are the insight(s) found from the chart?"
      ],
      "metadata": {
        "id": "tgIPom80phqQ"
      }
    },
    {
      "cell_type": "markdown",
      "source": [
        "The chart reveals that movie content consistently outnumbered shows until around 2017, after which both saw a sharp increase, with movies peaking significantly around 2019-2020 before a recent decline. Show content has also increased, but at a much slower rate and remains far less frequent than movies."
      ],
      "metadata": {
        "id": "Qp13pnNzphqQ"
      }
    },
    {
      "cell_type": "markdown",
      "source": [
        "##### 3. Will the gained insights help creating a positive business impact?\n",
        "Are there any insights that lead to negative growth? Justify with specific reason."
      ],
      "metadata": {
        "id": "JMzcOPDDphqR"
      }
    },
    {
      "cell_type": "markdown",
      "source": [
        "Yes, these insights can positively impact content strategy by highlighting the high demand for movies in recent years. However, the recent sharp decline in both movie and show content could lead to negative growth if not addressed, as a shrinking content library might reduce subscriber retention or acquisition."
      ],
      "metadata": {
        "id": "R4Ka1PC2phqR"
      }
    },
    {
      "cell_type": "markdown",
      "source": [
        "#### Chart - 12 (IMDb Score vs Runtime with Votes and Type)"
      ],
      "metadata": {
        "id": "x-EpHcCOp1ci"
      }
    },
    {
      "cell_type": "code",
      "source": [
        "# IMDb Score vs Runtime with Votes and Type\n",
        "\n",
        "plt.figure(figsize=(20,10))\n",
        "sns.scatterplot(\n",
        "    data=df_titles,\n",
        "    x='runtime',\n",
        "    y='imdb_score',\n",
        "    hue='type',\n",
        "    size='imdb_votes',\n",
        "    sizes=(20, 200),\n",
        "    alpha=0.7\n",
        ")\n",
        "plt.title('IMDb Score vs Runtime with Votes and Type')\n",
        "plt.tight_layout()\n",
        "plt.show()\n",
        "\n"
      ],
      "metadata": {
        "id": "mAQTIvtqp1cj"
      },
      "execution_count": null,
      "outputs": []
    },
    {
      "cell_type": "markdown",
      "source": [
        "##### 1. Why did you pick the specific chart?"
      ],
      "metadata": {
        "id": "X_VqEhTip1ck"
      }
    },
    {
      "cell_type": "markdown",
      "source": [
        "This scatter plot with varied dot sizes (bubble chart) is chosen to display the relationships between \"Runtime,\" \"IMDb Score,\" \"Content Type,\" and \"IMDb Votes\" simultaneously. It effectively reveals correlations and clusters among these four variables."
      ],
      "metadata": {
        "id": "-vsMzt_np1ck"
      }
    },
    {
      "cell_type": "markdown",
      "source": [
        "##### 2. What is/are the insight(s) found from the chart?"
      ],
      "metadata": {
        "id": "8zGJKyg5p1ck"
      }
    },
    {
      "cell_type": "markdown",
      "source": [
        "The chart shows that \"SHOW\" (blue) are generally shorter with high IMDb scores, while \"MOVIE\" (orange) have a wider range of runtimes and scores. Higher IMDb votes (larger dots) are concentrated among both movies and shows with good IMDb scores (above 6)."
      ],
      "metadata": {
        "id": "ZYdMsrqVp1ck"
      }
    },
    {
      "cell_type": "markdown",
      "source": [
        "##### 3. Will the gained insights help creating a positive business impact?\n",
        "Are there any insights that lead to negative growth? Justify with specific reason."
      ],
      "metadata": {
        "id": "PVzmfK_Ep1ck"
      }
    },
    {
      "cell_type": "markdown",
      "source": [
        "Yes, these insights can guide content acquisition towards popular high-rated movies and shows for positive impact. However, ignoring content types or score ranges with fewer votes (smaller dots) could lead to negative growth by missing niche audiences or underperforming segments."
      ],
      "metadata": {
        "id": "druuKYZpp1ck"
      }
    },
    {
      "cell_type": "markdown",
      "source": [
        "#### Chart - 13 (TMDB Popularity vs Runtime with IMDb Score)"
      ],
      "metadata": {
        "id": "n3dbpmDWp1ck"
      }
    },
    {
      "cell_type": "code",
      "source": [
        "plt.figure(figsize=(10,6))\n",
        "sns.scatterplot(\n",
        "    data=df_titles,\n",
        "    x='runtime',\n",
        "    y='tmdb_popularity',\n",
        "    hue='type',\n",
        "    size='imdb_score',\n",
        "    sizes=(20, 200),\n",
        "    alpha=0.7\n",
        ")\n",
        "plt.title(\"TMDB Popularity vs Runtime with IMDb Score\")\n",
        "plt.xlabel(\"Runtime (minutes)\")\n",
        "plt.ylabel(\"TMDB Popularity\")\n",
        "plt.tight_layout()\n",
        "plt.show()"
      ],
      "metadata": {
        "id": "bwevp1tKp1ck"
      },
      "execution_count": null,
      "outputs": []
    },
    {
      "cell_type": "markdown",
      "source": [
        "##### 1. Why did you pick the specific chart?"
      ],
      "metadata": {
        "id": "ylSl6qgtp1ck"
      }
    },
    {
      "cell_type": "markdown",
      "source": [
        "This bubble chart is suitable here as it simultaneously visualizes the relationship between runtime and popularity, differentiates by content type (SHOW/MOVIE), and uses bubble size to represent IMDb score, effectively showing multi-dimensional data."
      ],
      "metadata": {
        "id": "m2xqNkiQp1ck"
      }
    },
    {
      "cell_type": "markdown",
      "source": [
        "##### 2. What is/are the insight(s) found from the chart?"
      ],
      "metadata": {
        "id": "ZWILFDl5p1ck"
      }
    },
    {
      "cell_type": "markdown",
      "source": [
        "Highly popular content (high TMDB Popularity) often includes shorter shows and medium-length movies, frequently with high IMDb scores (larger bubbles). While longer movies exist, their popularity tends to be lower compared to the popular clusters of shorter content."
      ],
      "metadata": {
        "id": "x-lUsV2mp1ck"
      }
    },
    {
      "cell_type": "markdown",
      "source": [
        "##### 3. Will the gained insights help creating a positive business impact?\n",
        "Are there any insights that lead to negative growth? Justify with specific reason."
      ],
      "metadata": {
        "id": "M7G43BXep1ck"
      }
    },
    {
      "cell_type": "markdown",
      "source": [
        "Yes, these insights can guide content acquisition towards popular, often shorter, high-rated content for positive business impact. However, focusing solely on the most popular items and neglecting potentially growing, less popular genres or longer formats could lead to negative growth by limiting audience diversification."
      ],
      "metadata": {
        "id": "5wwDJXsLp1cl"
      }
    },
    {
      "cell_type": "markdown",
      "source": [
        "#### Chart - 14 (Top Genres by Country and Type)"
      ],
      "metadata": {
        "id": "Ag9LCva-p1cl"
      }
    },
    {
      "cell_type": "code",
      "source": [
        "# Top Genres by Country and Type\n",
        "import ast\n",
        "\n",
        "# Prepare the DataFrame\n",
        "df_genre = df.dropna(subset=['genres', 'production_countries', 'type', 'title']).copy()\n",
        "\n",
        "# Explode both genres and countries\n",
        "df_genre = df.explode('genres').explode('production_countries')\n",
        "\n",
        "# Focus on top 5 countries and top 5 genres for clarity\n",
        "top_countries = df['production_countries'].value_counts().head(5).index\n",
        "top_genres = df['genres'].value_counts().head(5).index\n",
        "\n",
        "# Filter DataFrame\n",
        "filtered = df_genre[\n",
        "    df['production_countries'].isin(top_countries) &\n",
        "    df['genres'].isin(top_genres)\n",
        "]\n",
        "\n",
        "# Pivot table: index = genre, columns = (country, type)\n",
        "genre_country_type = pd.pivot_table(\n",
        "    filtered,\n",
        "    index='genres',\n",
        "    columns=['production_countries', 'type'],\n",
        "    values='title',\n",
        "    aggfunc='count',\n",
        "    fill_value=0\n",
        ")\n",
        "\n",
        "# Heatmap\n",
        "plt.figure(figsize=(14, 6))\n",
        "sns.heatmap(genre_country_type, annot=True, fmt='d', cmap='YlGnBu')\n",
        "plt.title('Top Genres by Country and Type (Heatmap)')\n",
        "plt.xlabel('Country & Type')\n",
        "plt.ylabel('Genre')\n",
        "plt.tight_layout()\n",
        "plt.show()\n",
        "\n"
      ],
      "metadata": {
        "id": "EUfxeq9-p1cl"
      },
      "execution_count": null,
      "outputs": []
    },
    {
      "cell_type": "markdown",
      "source": [
        "##### 1. Why did you pick the specific chart?"
      ],
      "metadata": {
        "id": "E6MkPsBcp1cl"
      }
    },
    {
      "cell_type": "markdown",
      "source": [
        "This heatmap is ideal for visualizing \"Top Genres by Country and Type\" because it effectively displays the frequency of each genre across different country-type combinations using color intensity, making high-count categories immediately apparent."
      ],
      "metadata": {
        "id": "V22bRsFWp1cl"
      }
    },
    {
      "cell_type": "markdown",
      "source": [
        "##### 2. What is/are the insight(s) found from the chart?"
      ],
      "metadata": {
        "id": "2cELzS2fp1cl"
      }
    },
    {
      "cell_type": "markdown",
      "source": [
        "US-MOVIES dominate content creation across all listed genres, especially Drama and Comedy. India (IN-MOVIE) is also a significant producer of Drama, Comedy, and Romance movies, while other country-type combinations have considerably fewer entries."
      ],
      "metadata": {
        "id": "ozQPc2_Ip1cl"
      }
    },
    {
      "cell_type": "markdown",
      "source": [
        "##### 3. Will the gained insights help creating a positive business impact?\n",
        "Are there any insights that lead to negative growth? Justify with specific reason."
      ],
      "metadata": {
        "id": "3MPXvC8up1cl"
      }
    },
    {
      "cell_type": "markdown",
      "source": [
        "Yes, focusing content acquisition and production on popular US and Indian movies, especially Drama and Comedy, can yield positive business impact. However, neglecting less-dominant country-type combinations or niche genres could lead to negative growth by missing opportunities in underserved markets."
      ],
      "metadata": {
        "id": "GL8l1tdLp1cl"
      }
    },
    {
      "cell_type": "markdown",
      "source": [
        "## **5. Solution to Business Objective**"
      ],
      "metadata": {
        "id": "JcMwzZxoAimU"
      }
    },
    {
      "cell_type": "markdown",
      "source": [
        "#### What do you suggest the client to achieve Business Objective ?\n",
        "Explain Briefly."
      ],
      "metadata": {
        "id": "8G2x9gOozGDZ"
      }
    },
    {
      "cell_type": "markdown",
      "source": [
        "- Focus on US and Indian content, especially in genres like Drama, Comedy, and Romance, since they’re very popular.\n",
        "- Choose content with IMDb ratings between 5.5 and 7.5 – it’s generally liked by viewers and can help grow your audience.\n",
        "- Shorter TV shows are trending, so adding more of them can increase user engagement and attract new subscribers.\n",
        "- There has been a drop in new releases after 2020, so it’s a good idea to bring in more fresh content to fill that gap.\n",
        "- While focusing on popular content, also add content from other countries and lesser-known genres to reach niche viewers and expand your audience.\n",
        "- Use age certifications (like R, PG-13, PG) to understand your audience better and target marketing by age groups.\n",
        "- Offer a mix , longer movies for deep stories and shorter shows for quick binge-watching, depending on what people like.\n",
        "- Keep an eye on both TMDB Popularity and IMDb scores – sometimes, a show may not have the highest rating but is still very popular."
      ],
      "metadata": {
        "id": "pASKb0qOza21"
      }
    },
    {
      "cell_type": "markdown",
      "source": [
        "# **Conclusion**"
      ],
      "metadata": {
        "id": "gCX9965dhzqZ"
      }
    },
    {
      "cell_type": "markdown",
      "source": [
        "Based on the analysis, the content landscape is dominated by US and Indian movies, particularly in Drama, Comedy, and Romance genres, with a strong preference for IMDb scores between 5.5 and 7.5. While there has been a recent surge and subsequent decline in overall content releases post-2020, popular content often comprises shorter shows and medium-length movies, frequently with high TMDB popularity and IMDb scores. To achieve business objectives, the client should strategically prioritize content acquisition in these high-demand categories and regions, while also diversifying to cater to niche markets and address the recent content decline, ultimately aiming for a balanced portfolio that maximizes audience engagement and subscriber growth."
      ],
      "metadata": {
        "id": "Fjb1IsQkh3yE"
      }
    }
  ]
}